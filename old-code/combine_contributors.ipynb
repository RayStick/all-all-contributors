{
 "cells": [
  {
   "cell_type": "markdown",
   "metadata": {},
   "source": [
    "# Combine across .all-contributorsrc files\n"
   ]
  },
  {
   "cell_type": "markdown",
   "metadata": {},
   "source": [
    "## My environment set-up on MacOS:\n",
    "- Created virtual Python environment: `python3 -m venv cc-venv`\n",
    "- Activated environment: `source cc-venv/bin/activate`\n",
    "- Used this file to install the required dependencies: `pip install -r requirements.txt`\n",
    "- Created a GitHub personal access token and added it to a `.env` file (see `.env.examples`)\n"
   ]
  },
  {
   "cell_type": "code",
   "execution_count": 2,
   "metadata": {},
   "outputs": [],
   "source": [
    "# Import dependencies \n",
    "\n",
    "from IPython.display import display, Markdown\n",
    "from combine_contributors_functions import fetch_all_contributors\n",
    "from dotenv import load_dotenv\n",
    "import os"
   ]
  },
  {
   "cell_type": "code",
   "execution_count": 3,
   "metadata": {
    "vscode": {
     "languageId": "shellscript"
    }
   },
   "outputs": [],
   "source": [
    "# Access the GitHub token, by loading environment variables from the .env file\n",
    "\n",
    "my_github_token = os.getenv('GITHUB_TOKEN')\n",
    "if not my_github_token:\n",
    "    raise ValueError(\"GitHub token not found. Please add it to your .env file\")"
   ]
  },
  {
   "cell_type": "code",
   "execution_count": null,
   "metadata": {},
   "outputs": [
    {
     "name": "stdout",
     "output_type": "stream",
     "text": [
      "Success! .all-contributorsrc found in peakdet: https://raw.githubusercontent.com/physiopy/peakdet/master/.all-contributorsrc\n",
      "Success! .all-contributorsrc found in phys2bids: https://raw.githubusercontent.com/physiopy/phys2bids/master/.all-contributorsrc\n",
      ".all-contributorsrc not found in physiopy\n",
      "Success! .all-contributorsrc found in physutils: https://raw.githubusercontent.com/physiopy/physutils/master/.all-contributorsrc\n",
      "Success! .all-contributorsrc found in phys2denoise: https://raw.githubusercontent.com/physiopy/phys2denoise/master/.all-contributorsrc\n",
      ".all-contributorsrc not found in outreach\n",
      ".all-contributorsrc not found in physiopy.github.io\n",
      ".all-contributorsrc not found in brainhack-physiopy-2022\n",
      ".all-contributorsrc not found in physiopy-repository-template\n",
      "Success! .all-contributorsrc found in physioqc: https://raw.githubusercontent.com/physiopy/physioqc/master/.all-contributorsrc\n",
      ".all-contributorsrc not found in physiopy-codesprint-spring2023\n",
      ".all-contributorsrc not found in .github\n",
      ".all-contributorsrc not found in brainhack-physiopy-2023\n",
      ".all-contributorsrc not found in physiopy_tutorial\n",
      "Success! .all-contributorsrc found in physiopy-community-guidelines: https://raw.githubusercontent.com/physiopy/physiopy-community-guidelines/master/.all-contributorsrc\n",
      "Success! .all-contributorsrc found in physiopy-automations: https://raw.githubusercontent.com/physiopy/physiopy-automations/master/.all-contributorsrc\n",
      "Success! .all-contributorsrc found in peakdet2: https://raw.githubusercontent.com/physiopy/peakdet2/master/.all-contributorsrc\n",
      "Success! .all-contributorsrc found in prep4phys: https://raw.githubusercontent.com/physiopy/prep4phys/master/.all-contributorsrc\n",
      ".all-contributorsrc not found in physiopy-governance\n",
      "Success! .all-contributorsrc found in bids-specification-physio: https://raw.githubusercontent.com/physiopy/bids-specification-physio/master/.all-contributorsrc\n",
      "None\n"
     ]
    }
   ],
   "source": [
    "# Fetch all of the .allcontributorsrc files you want to combine from an organisation\n",
    "\n",
    "if __name__ == '__main__':\n",
    "    df = fetch_all_contributors('physiopy', my_github_token)\n",
    "    print(df)\n",
    "    "
   ]
  },
  {
   "cell_type": "markdown",
   "metadata": {},
   "source": [
    "## TO DO - write a function to combine\n",
    "\n",
    "-  combine_contributors(output_dir, org_name)\n",
    "- output_dir is what is created by fetch_all_contributors\n",
    "- function should return an org .all-contributorsrc file \n",
    "- this org file should groups contributors together across every repo and collect all their unique contribution types\n",
    "\n",
    "## TO DO - populate organisation README \n",
    "\n",
    "- Locally, we could use the all contributors command line tool to populate the org README.md based on this new merged .all-contributors file \n",
    "- shell: `npm i -D all-contributors-cli` (needs node)\n",
    "- move into a folder with an empty README.md (see template) and the combined .all-contributorsrc \n",
    "    - shell: `all-contributors generate`\n"
   ]
  },
  {
   "cell_type": "markdown",
   "metadata": {},
   "source": []
  }
 ],
 "metadata": {
  "kernelspec": {
   "display_name": "3.9",
   "language": "python",
   "name": "python3"
  },
  "language_info": {
   "codemirror_mode": {
    "name": "ipython",
    "version": 3
   },
   "file_extension": ".py",
   "mimetype": "text/x-python",
   "name": "python",
   "nbconvert_exporter": "python",
   "pygments_lexer": "ipython3",
   "version": "3.9.6"
  }
 },
 "nbformat": 4,
 "nbformat_minor": 2
}
