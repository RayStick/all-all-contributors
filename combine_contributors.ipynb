{
 "cells": [
  {
   "cell_type": "markdown",
   "metadata": {},
   "source": [
    "# Combine across .all-contributorsrc files\n",
    "\n",
    "This code (written with the help of GitHub Copilot) is designed to be run locally with Python. \n",
    "\n",
    "The core functions should be stored in [combine_contributors_functions.py](combine_contributors_functions.py). "
   ]
  },
  {
   "cell_type": "markdown",
   "metadata": {},
   "source": [
    "## Environment set-up on MacOS:\n",
    "- Created virtual Python environment: `python3 -m venv cc-venv`\n",
    "- Activated environment: `source cc-venv/bin/activate`\n",
    "- Used this file to install the required dependencies: `pip install -r requirements.txt`\n",
    "   - Note: You may not need all the 'Jupyter-related dependencies' listed in the `requirements.txt`, particularly if you chose to run this code without using a Jupyter notebook\n",
    "- Created a GitHub personal access token and added it to a `.env` file (see `.env.examples`)\n"
   ]
  },
  {
   "cell_type": "code",
   "execution_count": null,
   "metadata": {},
   "outputs": [],
   "source": [
    "# Import python modules\n",
    "\n",
    "from IPython.display import display, Markdown\n",
    "from combine_contributors_functions import fetch_all_contributors, combine_contributors\n",
    "from dotenv import load_dotenv\n",
    "import os"
   ]
  },
  {
   "cell_type": "code",
   "execution_count": null,
   "metadata": {
    "vscode": {
     "languageId": "shellscript"
    }
   },
   "outputs": [],
   "source": [
    "# Access the GitHub token, by loading environment variables from the .env file\n",
    "\n",
    "my_github_token = os.getenv('GITHUB_TOKEN')\n",
    "if not my_github_token:\n",
    "    raise ValueError(\"GitHub token not found. Please add it to your .env file\")"
   ]
  },
  {
   "cell_type": "code",
   "execution_count": null,
   "metadata": {},
   "outputs": [],
   "source": [
    "# Fetch all of the .allcontributorsrc files you want to combine (alternatively, this could be done manually)\n",
    "\n",
    "if __name__ == '__main__':\n",
    "    df = fetch_all_contributors('physiopy', my_github_token)\n",
    "    print(df)\n",
    "    "
   ]
  },
  {
   "cell_type": "code",
   "execution_count": null,
   "metadata": {},
   "outputs": [],
   "source": [
    "# TO DO - write a function to combine\n",
    "\n",
    "# combine_contributors(output_dir, org_name)\n",
    "# output_dir is what is created by fetch_all_contributors\n",
    "# function should return a group .all-contributorsrc file -\n",
    "# this file should groups contributors together across every repo and collect their all their contribution types\n",
    "# How can we validate it's done it well? Some unit tests would be good "
   ]
  },
  {
   "cell_type": "markdown",
   "metadata": {},
   "source": [
    "## Create a README.md with all the combined contributions\n",
    "\n",
    "1. On the shell terminal, install the all-contributors command line tool:\n",
    "- `brew install node`\n",
    "- `npm i -D all-contributors-cli`\n",
    "\n",
    "2. On the shell terminal, changed into the output_dir of choice and copy the template README: \n",
    "- `cp ../README_template.md ./README.md`\n",
    "\n",
    "3. On the shell terminal, run this to populate the README.md file based on combined .all-contributorsrc\n",
    "- `all-contributors generate`\n",
    "\n"
   ]
  },
  {
   "cell_type": "markdown",
   "metadata": {},
   "source": []
  }
 ],
 "metadata": {
  "kernelspec": {
   "display_name": "cc-venv",
   "language": "python",
   "name": "python3"
  },
  "language_info": {
   "codemirror_mode": {
    "name": "ipython",
    "version": 3
   },
   "file_extension": ".py",
   "mimetype": "text/x-python",
   "name": "python",
   "nbconvert_exporter": "python",
   "pygments_lexer": "ipython3",
   "version": "3.9.6"
  }
 },
 "nbformat": 4,
 "nbformat_minor": 2
}
